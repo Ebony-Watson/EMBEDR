{
 "cells": [
  {
   "cell_type": "markdown",
   "id": "ee89d7fc-3349-438e-a6b7-509014c08eac",
   "metadata": {},
   "source": [
    "# Manuscript Figure 1: A Zoology of Dimensionality Reduction Outcomes\n",
    "\n",
    "In this notebook I want to re-do the code for the first figure in the paper.  As a reminder, this was a Figure that showed how processing the Tabula Muris Marrow data using different algorithms and hyperparameters results in different qualitative features.  Specifically, it was a 2x2 figure showing two t-SNE and two UMAP embeddings, each at $k=15$ and $k=400$."
   ]
  },
  {
   "cell_type": "code",
   "execution_count": 1,
   "id": "f0301b81-cffd-4f86-ac9a-3ff43ff30e32",
   "metadata": {},
   "outputs": [],
   "source": [
    "import matplotlib\n",
    "import matplotlib.pyplot as plt\n",
    "import numpy as np\n",
    "import os\n",
    "# import PaperV4_PlottingScripts.plotting_utility as pUtl\n",
    "import pandas as pd\n",
    "import scanpy as sc\n",
    "import seaborn as sns\n",
    "from sklearn.metrics import pairwise_distances as pwd\n",
    "import warnings\n",
    "\n",
    "warnings.filterwarnings(\"ignore\", message=\"This figure includes Axes that\")\n",
    "warnings.filterwarnings(\"ignore\", message=\"tight_layout not applied: \")"
   ]
  },
  {
   "cell_type": "markdown",
   "id": "9f5e4ebb-1778-46e7-a3b3-3b6c698501b9",
   "metadata": {},
   "source": [
    "### Set runtime parameters here..."
   ]
  },
  {
   "cell_type": "code",
   "execution_count": 2,
   "id": "c44db56c-cf98-475d-8dcc-cb71e217f9df",
   "metadata": {},
   "outputs": [],
   "source": [
    "## Set the figure base name\n",
    "name_base = \"EMBEDRFigure_01v1_DimRedZoology\"\n",
    "\n",
    "## Select which data to use\n",
    "seq_type = \"FACS\"\n",
    "tissue = \"Marrow\"\n",
    "\n",
    "## Set parameters at which to plot data\n",
    "DR_params = [('tSNE', 7),\n",
    "             ('UMAP', 15),\n",
    "             ('tSNE', 250),\n",
    "             ('UMAP', 400)]\n",
    "\n",
    "## Set other parameters\n",
    "n_components   = 2\n",
    "\n",
    "tSNE_exag_iter = 250\n",
    "tSNE_n_iter    = 1000 - tSNE_exag_iter\n",
    "\n",
    "random_seed    = 1\n",
    "initialization = 'random'\n",
    "n_jobs         = -1\n",
    "\n",
    "## Data directory\n",
    "data_dir = f\"../../data/tabula-muris/\"\n",
    "\n",
    "## Figure directory\n",
    "fig_dir = f\"./\"\n",
    "\n",
    "## Runtime flags\n",
    "show_all_axes = False         ## Show ALL axes borders (useful for gridspec setup)\n",
    "color_by_cluster = True       ## Color plot by cell type cluster annotations.\n",
    "color_by_variability = False  ## Color plot by kEff / dist to NN"
   ]
  },
  {
   "cell_type": "markdown",
   "id": "0ab48d1a-cec0-40d1-bf96-99f6b43a74c1",
   "metadata": {},
   "source": [
    "### Load the data and metadata"
   ]
  },
  {
   "cell_type": "code",
   "execution_count": 10,
   "id": "120c3c28-8cc6-45e0-bfe1-f37b6403ba22",
   "metadata": {},
   "outputs": [
    {
     "name": "stdout",
     "output_type": "stream",
     "text": [
      "Input data `X` is 4771 x 50!\n"
     ]
    }
   ],
   "source": [
    "data = sc.read_h5ad(os.path.join(data_dir, f\"04_facs_processed_data/{seq_type}/Processed_{tissue.title()}.h5ad\"))\n",
    "data.obs.head()\n",
    "\n",
    "X = data.obsm['X_pca']\n",
    "n_samples, n_features = X.shape\n",
    "print(f\"Input data `X` is {n_samples} x {n_features}!\")"
   ]
  },
  {
   "cell_type": "markdown",
   "id": "87a4bb6a-a010-4762-9138-a51d167699f9",
   "metadata": {},
   "source": [
    "### Set Figure Parameters"
   ]
  },
  {
   "cell_type": "code",
   "execution_count": null,
   "id": "92e8a6da-4e96-472e-ab41-886193161b77",
   "metadata": {},
   "outputs": [],
   "source": [
    "## Environment-wide parameters.\n",
    "plt.rcParams['svg.fonttype'] = 'none'\n",
    "sns.set(color_codes=True)\n",
    "sns.set_style('whitegrid')\n",
    "matplotlib.rc(\"font\", size=10)\n",
    "matplotlib.rc(\"xtick\", labelsize=10)\n",
    "matplotlib.rc(\"ytick\", labelsize=10)\n",
    "matplotlib.rc(\"axes\", labelsize=12)\n",
    "matplotlib.rc(\"axes\", titlesize=16)\n",
    "matplotlib.rc(\"legend\", fontsize=10)\n",
    "matplotlib.rc(\"figure\", titlesize=12)\n",
    "\n",
    "## Figure size and gridspec size\n",
    "my_dpi = 400\n",
    "fig_wid = 7.2  ## inches (8 inch-wide paper minus margins)\n",
    "fig_hgt = 0.8 * fig_wid\n",
    "\n",
    "## Automatically set n_rows based on conditions and n_cols.\n",
    "n_cols = 2\n",
    "n_rows = int(np.ceil(len(DR_params) / n_cols))\n",
    "\n",
    "## Main gridspec parameters.\n",
    "if color_by_cluster:  ## We need less space if coloring by cluster.\n",
    "    main_wspace    = 0.005\n",
    "    fig_pad        = 0.5\n",
    "else:\n",
    "    main_wspace    = 0.15\n",
    "    fig_pad        = 3\n",
    "main_hspace        = 0.01\n",
    "main_spns_2_show   = 'all'\n",
    "main_spn_alpha     = 0.5\n",
    "main_spn_width     = 1.0\n",
    "main_height_ratios = [1, 1]\n",
    "\n",
    "## Toggle for axes borders.\n",
    "if show_all_axes:\n",
    "    spine_alpha = 1\n",
    "else:\n",
    "    spine_alpha = 0"
   ]
  },
  {
   "cell_type": "code",
   "execution_count": null,
   "id": "7b60463f-c312-4e37-bed7-1604d20a41e7",
   "metadata": {},
   "outputs": [],
   "source": []
  }
 ],
 "metadata": {
  "kernelspec": {
   "display_name": "Python 3 (ipykernel)",
   "language": "python",
   "name": "python3"
  },
  "language_info": {
   "codemirror_mode": {
    "name": "ipython",
    "version": 3
   },
   "file_extension": ".py",
   "mimetype": "text/x-python",
   "name": "python",
   "nbconvert_exporter": "python",
   "pygments_lexer": "ipython3",
   "version": "3.9.7"
  }
 },
 "nbformat": 4,
 "nbformat_minor": 5
}
